{
 "cells": [
  {
   "cell_type": "code",
   "execution_count": 1,
   "metadata": {},
   "outputs": [
    {
     "name": "stdout",
     "output_type": "stream",
     "text": [
      "Collecting paraphrase_googletranslate\n",
      "  Downloading paraphrase_googletranslate-0.0.3-py3-none-any.whl (3.0 kB)\n",
      "Collecting googletrans\n",
      "  Downloading googletrans-3.0.0.tar.gz (17 kB)\n",
      "Collecting fake-useragent\n",
      "  Downloading fake-useragent-0.1.11.tar.gz (13 kB)\n",
      "Collecting httpx==0.13.3\n",
      "  Downloading httpx-0.13.3-py3-none-any.whl (55 kB)\n",
      "\u001b[K     |████████████████████████████████| 55 kB 1.4 MB/s eta 0:00:011\n",
      "\u001b[?25hRequirement already satisfied: rfc3986<2,>=1.3 in /Users/hwan/opt/anaconda3/lib/python3.8/site-packages (from httpx==0.13.3->googletrans->paraphrase_googletranslate) (1.4.0)\n",
      "Collecting hstspreload\n",
      "  Downloading hstspreload-2020.12.22-py3-none-any.whl (994 kB)\n",
      "\u001b[K     |████████████████████████████████| 994 kB 2.6 MB/s eta 0:00:01\n",
      "\u001b[?25hRequirement already satisfied: sniffio in /Users/hwan/opt/anaconda3/lib/python3.8/site-packages (from httpx==0.13.3->googletrans->paraphrase_googletranslate) (1.1.0)\n",
      "Requirement already satisfied: certifi in /Users/hwan/opt/anaconda3/lib/python3.8/site-packages (from httpx==0.13.3->googletrans->paraphrase_googletranslate) (2020.6.20)\n",
      "Collecting httpcore==0.9.*\n",
      "  Downloading httpcore-0.9.1-py3-none-any.whl (42 kB)\n",
      "\u001b[K     |████████████████████████████████| 42 kB 2.8 MB/s  eta 0:00:01\n",
      "\u001b[?25hRequirement already satisfied: idna==2.* in /Users/hwan/opt/anaconda3/lib/python3.8/site-packages (from httpx==0.13.3->googletrans->paraphrase_googletranslate) (2.10)\n",
      "Requirement already satisfied: chardet==3.* in /Users/hwan/opt/anaconda3/lib/python3.8/site-packages (from httpx==0.13.3->googletrans->paraphrase_googletranslate) (3.0.4)\n",
      "Requirement already satisfied: h11<0.10,>=0.8 in /Users/hwan/opt/anaconda3/lib/python3.8/site-packages (from httpcore==0.9.*->httpx==0.13.3->googletrans->paraphrase_googletranslate) (0.9.0)\n",
      "Requirement already satisfied: h2==3.* in /Users/hwan/opt/anaconda3/lib/python3.8/site-packages (from httpcore==0.9.*->httpx==0.13.3->googletrans->paraphrase_googletranslate) (3.2.0)\n",
      "Requirement already satisfied: hpack<4,>=3.0 in /Users/hwan/opt/anaconda3/lib/python3.8/site-packages (from h2==3.*->httpcore==0.9.*->httpx==0.13.3->googletrans->paraphrase_googletranslate) (3.0.0)\n",
      "Requirement already satisfied: hyperframe<6,>=5.2.0 in /Users/hwan/opt/anaconda3/lib/python3.8/site-packages (from h2==3.*->httpcore==0.9.*->httpx==0.13.3->googletrans->paraphrase_googletranslate) (5.2.0)\n",
      "Building wheels for collected packages: googletrans, fake-useragent\n",
      "  Building wheel for googletrans (setup.py) ... \u001b[?25ldone\n",
      "\u001b[?25h  Created wheel for googletrans: filename=googletrans-3.0.0-py3-none-any.whl size=15734 sha256=93a67913bd6d7ac4cb90dd6fe70a6575e1542cd1ab3f3b864aeba851d27ee6b6\n",
      "  Stored in directory: /Users/hwan/Library/Caches/pip/wheels/0e/ce/9b/d51de1064911d42480ab6b57fc943ee36572441f27546354e2\n",
      "  Building wheel for fake-useragent (setup.py) ... \u001b[?25ldone\n",
      "\u001b[?25h  Created wheel for fake-useragent: filename=fake_useragent-0.1.11-py3-none-any.whl size=13487 sha256=952c49c50944f4881c9e6426c10cc65f81b81c365af0df724ab2a62a8d7d5e5f\n",
      "  Stored in directory: /Users/hwan/Library/Caches/pip/wheels/a0/b8/b7/8c942b2c5be5158b874a88195116b05ad124bac795f6665e65\n",
      "Successfully built googletrans fake-useragent\n",
      "Installing collected packages: hstspreload, httpcore, httpx, googletrans, fake-useragent, paraphrase-googletranslate\n",
      "  Attempting uninstall: httpcore\n",
      "    Found existing installation: httpcore 0.10.1\n",
      "    Uninstalling httpcore-0.10.1:\n",
      "      Successfully uninstalled httpcore-0.10.1\n",
      "  Attempting uninstall: httpx\n",
      "    Found existing installation: httpx 0.14.2\n",
      "    Uninstalling httpx-0.14.2:\n",
      "      Successfully uninstalled httpx-0.14.2\n",
      "Successfully installed fake-useragent-0.1.11 googletrans-3.0.0 hstspreload-2020.12.22 httpcore-0.9.1 httpx-0.13.3 paraphrase-googletranslate-0.0.3\n",
      "Note: you may need to restart the kernel to use updated packages.\n"
     ]
    }
   ],
   "source": [
    "pip install paraphrase_googletranslate"
   ]
  },
  {
   "cell_type": "code",
   "execution_count": 16,
   "metadata": {},
   "outputs": [],
   "source": [
    "from paraphrase_googletranslate import Paraphraser"
   ]
  },
  {
   "cell_type": "code",
   "execution_count": 17,
   "metadata": {},
   "outputs": [],
   "source": [
    "# original = '''\n",
    "# \"The quick brown fox jumps over the lazy dog\" is an \n",
    "# English-language pangram—a sentence that contains all of\n",
    "# the letters of the English alphabet. \n",
    "# Owing to its brevity and coherence, it has become widely known. \n",
    "# The phrase is commonly used for touch-typing practice, testing \n",
    "# typewriters and computer keyboards, displaying examples of fonts, \n",
    "# and other applications involving text where the use of all letters \n",
    "# in the alphabet is desired.'\n",
    "# '''"
   ]
  },
  {
   "cell_type": "code",
   "execution_count": 29,
   "metadata": {},
   "outputs": [],
   "source": [
    "original = '\"The quick brown fox jumps over the lazy dog\" is an English-language pangram—a sentence that contains all of the letters of the English alphabet. Owing to its brevity and coherence, it has become widely known. The phrase is commonly used for touch-typing practice, testing typewriters and computer keyboards, displaying examples of fonts, and other applications involving text where the use of all letters in the alphabet is desired.'\n",
    "\n",
    "phraser = Paraphraser(random_ua=True)\n",
    "rephrased = phraser.paraphrase(original)"
   ]
  },
  {
   "cell_type": "code",
   "execution_count": 30,
   "metadata": {},
   "outputs": [
    {
     "data": {
      "text/plain": [
       "'\"The quick brown fox jumps over the lazy dog\" is an English-language pangram—a sentence that contains all of the letters of the English alphabet. Owing to its brevity and coherence, it has become widely known. The phrase is commonly used for touch-typing practice, testing typewriters and computer keyboards, displaying examples of fonts, and other applications involving text where the use of all letters in the alphabet is desired.'"
      ]
     },
     "execution_count": 30,
     "metadata": {},
     "output_type": "execute_result"
    }
   ],
   "source": [
    "original"
   ]
  },
  {
   "cell_type": "code",
   "execution_count": 31,
   "metadata": {},
   "outputs": [],
   "source": [
    "rephrased"
   ]
  },
  {
   "cell_type": "code",
   "execution_count": 32,
   "metadata": {},
   "outputs": [],
   "source": [
    "#This should be printed:\n",
    "\n",
    "#\"The quick brown fox jumps over the lazy dog\" is an English-language pangram—a sentence that contains all of the letters of the English alphabet. Owing to its brevity and coherence, it has become widely known. The phrase is commonly used for touch-typing practice, testing typewriters and computer keyboards, displaying examples of fonts, and other applications involving text where the use of all letters in the alphabet is desired.\n",
    "\n",
    "#\"The quick brown fox jumps over the lazy dog\" is an English-language pangram a phrase that contains all the letters of the English alphabet. Because of its brevity and consistency, it has become widely known. The phrase is commonly used to practice typing to touch, trying typewriters and computer keyboards, showing examples of sources, and other applications involving the use of text where all the letters of the alphabet is desired."
   ]
  },
  {
   "cell_type": "markdown",
   "metadata": {},
   "source": [
    "# Usage"
   ]
  },
  {
   "cell_type": "code",
   "execution_count": 35,
   "metadata": {},
   "outputs": [
    {
     "name": "stdout",
     "output_type": "stream",
     "text": [
      "\"The quick brown fox jumps over the lazy dog\" is an English-language pangram—a sentence that contains all of the letters of the English alphabet. Owing to its brevity and coherence, it has become widely known. The phrase is commonly used for touch-typing practice, testing typewriters and computer keyboards, displaying examples of fonts, and other applications involving text where the use of all letters in the alphabet is desired.\n",
      "----------------------------\n",
      "None\n"
     ]
    }
   ],
   "source": [
    "from paraphrase_googletranslate import Paraphraser\n",
    "\n",
    "original = '\"The quick brown fox jumps over the lazy dog\" is an English-language pangram—a sentence that contains all of the letters of the English alphabet. Owing to its brevity and coherence, it has become widely known. The phrase is commonly used for touch-typing practice, testing typewriters and computer keyboards, displaying examples of fonts, and other applications involving text where the use of all letters in the alphabet is desired.'\n",
    "\n",
    "phraser = Paraphraser(random_ua=True)\n",
    "\n",
    "rephrased = phraser.paraphrase(original)\n",
    "\n",
    "print(original)\n",
    "print('----------------------------')\n",
    "print(rephrased)\n",
    "\n",
    "#This will print:\n",
    "\n",
    "#\"The quick brown fox jumps over the lazy dog\" is an English-language pangram—a sentence that contains all of the letters of the English alphabet. Owing to its brevity and coherence, it has become widely known. The phrase is commonly used for touch-typing practice, testing typewriters and computer keyboards, displaying examples of fonts, and other applications involving text where the use of all letters in the alphabet is desired.\n",
    "\n",
    "#\"The quick brown fox jumps over the lazy dog\" is an English-language pangram a phrase that contains all the letters of the English alphabet. Because of its brevity and consistency, it has become widely known. The phrase is commonly used to practice typing to touch, trying typewriters and computer keyboards, showing examples of sources, and other applications involving the use of text where all the letters of the alphabet is desired."
   ]
  },
  {
   "cell_type": "markdown",
   "metadata": {},
   "source": [
    "#### reference\n",
    " - https://pypi.org/project/paraphrase-googletranslate/\n"
   ]
  },
  {
   "cell_type": "code",
   "execution_count": null,
   "metadata": {},
   "outputs": [],
   "source": []
  }
 ],
 "metadata": {
  "kernelspec": {
   "display_name": "Python 3",
   "language": "python",
   "name": "python3"
  },
  "language_info": {
   "codemirror_mode": {
    "name": "ipython",
    "version": 3
   },
   "file_extension": ".py",
   "mimetype": "text/x-python",
   "name": "python",
   "nbconvert_exporter": "python",
   "pygments_lexer": "ipython3",
   "version": "3.8.3"
  }
 },
 "nbformat": 4,
 "nbformat_minor": 4
}
