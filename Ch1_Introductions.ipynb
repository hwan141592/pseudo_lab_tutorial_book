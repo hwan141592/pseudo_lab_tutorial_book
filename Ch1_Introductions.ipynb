{
 "cells": [
  {
   "cell_type": "markdown",
   "metadata": {},
   "source": [
    "# Contents\n",
    "### [Ch.1] Introduction to G.A.N \n",
    " - 개요(Overview)\n",
    " - 1.1. 모델 (Model Structure)\n",
    " - 1.2. 평가메트릭 (Evaluation Metrics)\n",
    " - 1.3. 활용 사례 (Use Case)\n",
    "   - 1.3.1. Case(1)\n",
    "   - 1.3.2. Case(2)\n",
    " - 1.4. C.G.A.N\n",
    "   - Conditional G.A.N\n",
    "   \n",
    "<hr>"
   ]
  },
  {
   "cell_type": "markdown",
   "metadata": {},
   "source": [
    "# [Ch.1] Introduction to G.A.N "
   ]
  },
  {
   "cell_type": "markdown",
   "metadata": {},
   "source": [
    "## 개요 (Overview)"
   ]
  },
  {
   "cell_type": "markdown",
   "metadata": {},
   "source": [
    "paper_00 : Ian J.Goodfellow 논문 & 블로그들"
   ]
  },
  {
   "cell_type": "markdown",
   "metadata": {},
   "source": [
    "## 1.1 모델 (Model Structure)"
   ]
  },
  {
   "cell_type": "markdown",
   "metadata": {},
   "source": [
    "paper_00 : Ian J.Goodfellow 논문 & 블로그들 >>> 쉽게쉽게"
   ]
  },
  {
   "cell_type": "markdown",
   "metadata": {},
   "source": [
    "## 1.2 평가메트릭 (Evaluation Metrics)"
   ]
  },
  {
   "cell_type": "markdown",
   "metadata": {},
   "source": [
    " - 개요\n",
    " - 6개 정도 주요한 것들 : FID, IS, Geometry Score, Tournament Based Method, Discriminator Rejection Sampling, Precision and Recall\n",
    " - 이 중 2가지에 대해서 자세히 설명."
   ]
  },
  {
   "cell_type": "markdown",
   "metadata": {},
   "source": [
    "#### Frechet Inception Distance (FID)\n",
    "\n",
    "(보충) paper_01로부터 & 블로그들\n",
    "\n",
    "(https://analyticsindiamag.com/top-6-metrics-to-monitor-the-performance-of-gans/)  \n",
    "\n",
    "(...) Frechet Inception Distance는 생성되는 이미지의 퀄리티 일관성을 유지하기 위해 이용되는 메트릭이다. FID가 낮을 수록 이미지의 퀄리티가 더 좋아지며, 이는 다시 말해 실제 이미지와 생성된 이미지의 유사도가 높아지는 것을 말한다. FID는 생성된 샘플들의 통계와 실제 샘플들의 통계를 비교한다."
   ]
  },
  {
   "cell_type": "markdown",
   "metadata": {},
   "source": [
    "#### Inception Score (IS)"
   ]
  },
  {
   "cell_type": "markdown",
   "metadata": {},
   "source": [
    "(보충) paper_01로부터 & 블로그들"
   ]
  },
  {
   "cell_type": "markdown",
   "metadata": {},
   "source": [
    "#### Annealed Importance Sampling "
   ]
  },
  {
   "cell_type": "markdown",
   "metadata": {},
   "source": [
    "(https://analyticsindiamag.com/top-6-metrics-to-monitor-the-performance-of-gans/)  \n",
    "\n",
    "(...)  일반적으로 모델을 비교할 때 샘플링하여 비교하는 것은 매우 번거롭고 그릇될 여지를 가지고 있는 방식입니다. 하지만 Annealed Importance Sampling에서는 decoder-based 모델에 대해서 log-likelihood가 측정되고, 양방향 몬테카를로 알고리즘을 통해 정확도가 검증됩니다."
   ]
  },
  {
   "cell_type": "markdown",
   "metadata": {},
   "source": [
    "## 1.3 활용 사례 (Use Case)"
   ]
  },
  {
   "cell_type": "markdown",
   "metadata": {},
   "source": [
    " - 1) MNIST ㄱㄱ\n",
    " - 2) 가짜 오바마 연설 영상\n",
    " - 3) MIT 텍스트 생성(풍경사진 & 짧은 시)\n",
    " - 4) Facebook Real-Eye-Opener\n",
    " - +a) 패션 테크 스타트업 VUE : 고객 개개인의 의상 이미지 제공"
   ]
  },
  {
   "cell_type": "markdown",
   "metadata": {},
   "source": [
    "#### 흐름\n",
    " - 모두의 데이터 MNIST -> 결과 모름 -> 나옴\n",
    " - 영상도 된다 -> 오바마\n",
    " - 텍스트도 된다 -> 사진을 갖다 주니 시를 생성\n",
    " - 우리의 일상생활에도 가까이 -> 앱에도 활용 Facebook\n",
    " - 그 밖에도 패션 +a 있음~"
   ]
  },
  {
   "cell_type": "markdown",
   "metadata": {},
   "source": [
    "## 1.4 C.G.A.N "
   ]
  },
  {
   "cell_type": "markdown",
   "metadata": {},
   "source": [
    "설명) paper_03으로부터."
   ]
  },
  {
   "cell_type": "markdown",
   "metadata": {},
   "source": [
    "사례) MNIST from paper_03 간단하게."
   ]
  },
  {
   "cell_type": "code",
   "execution_count": null,
   "metadata": {},
   "outputs": [],
   "source": []
  }
 ],
 "metadata": {
  "kernelspec": {
   "display_name": "Python 3",
   "language": "python",
   "name": "python3"
  },
  "language_info": {
   "codemirror_mode": {
    "name": "ipython",
    "version": 3
   },
   "file_extension": ".py",
   "mimetype": "text/x-python",
   "name": "python",
   "nbconvert_exporter": "python",
   "pygments_lexer": "ipython3",
   "version": "3.8.3"
  }
 },
 "nbformat": 4,
 "nbformat_minor": 4
}
