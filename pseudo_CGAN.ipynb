{
 "cells": [
  {
   "cell_type": "markdown",
   "metadata": {},
   "source": [
    "# Overall\n",
    " - CGAN\n",
    " - Conditional Generative Adversarial Nets"
   ]
  },
  {
   "cell_type": "markdown",
   "metadata": {},
   "source": [
    "### Origin\n",
    " - by Mehdi Mirza (2014.11)"
   ]
  },
  {
   "cell_type": "markdown",
   "metadata": {},
   "source": [
    "### GAN\n",
    " - 다음 2개 부분으로 이루어짐\n",
    " - non-linear하게 매핑하는 함수일 수 있음\n",
    "     1. 데이터분포를 입력받아 실제에 가깝게 데이터를 생성하는 생성모델 G\n",
    "     2. 입력받은 데이터가 진짜 데이터인지 G가 만들어낸 것인지를 판별하는 D\n",
    "     \n",
    "### 모델의 구조\n",
    " - G\n",
    "   - Uniform Distribution z.size = 100\n",
    "   - z, y는 각각 size 200, 1000짜리 hidden layer (ReLU)로 매핑됨\n",
    "   - 1200짜리 hidden layer로 합쳐짐 (ReLU)\n",
    "   - 마지막으로 784차원으로 변환됨 (e.g. MNIST 이미지는 28^2)\n",
    " - D\n",
    "   - x는 240 unit과 5piece짜리 maxout layer,  \n",
    "     y는 50 unit과 5piece짜리 maxout layer로 매핑됨\n",
    "   - 240 unit, 5piece짜리 maxout layer로 합쳐진 후 Sigmoid"
   ]
  },
  {
   "cell_type": "markdown",
   "metadata": {},
   "source": [
    "### 설명 약간\n",
    " - Conditional GAN은 GAN의 출력물에 처음으로 조건을 주어 통제하려는 시도에서 만들어짐\n",
    " - 구조적으로 기존 GAN과는 거의 차이가 없음. \n",
    " - Gen에 Condition을 함께 넣어주고, Disc에도 Condition을 넣어줌.\n",
    " - 기존 GAN : noise vector를 받아들여서 출력물을 만들어내는데, 이를 사람이 통제 불가했음\n",
    " - e.g) 기존 GAN으로 mnist 손글씨 숫자 데이터셋을 훈련시켰을 때  \n",
    "        결과물은 random noise vector값에 따라 무작위 손글씨임 (특정 숫자 출력x)\n",
    "        CGAN에서는 숫자 5를 출력(Condition)하고자 할 때, 기존 GAN에 노이즈 벡터와\n",
    "        더불어 Condition C를 넣어준다. >> 결과물을 특정 숫자로 출력 가능.(e.g.5)"
   ]
  },
  {
   "cell_type": "markdown",
   "metadata": {},
   "source": [
    "### 학습 프로세스\n",
    " - 기존 GAN과 거의 동일\n",
    "\n",
    "1. Discriminator에 학습 및 판별시키고자 하는 원본 이미지 x와 더불어 condition C를 concat해서 넣어주어 feed forward\n",
    "2. Discriminator에 넣어준 x는 원본 이미지이므로 참을 뜻하는 1이 반환되도록 기대하고, back prop를 통해 disc를 먼저 학습\n",
    "3. generator를 붙여서, generator에 노이즈벡터 z와 함께 condition c를 넣고, disc는 Gen이 만든 이미지 g와 함께 c를 받아들여서 판단을 내림. 당연히 disc는 원본 이미지에 대해서 참으로 인식하도록 학습이 되었으므로 gen이 학습 안된 이때에는 0이 나올 확률이 절대적.\n",
    "4. backprop을 통해 disc는 거짓 이미지 g에 대해서 0이 출력되도록 학습하고, gen은 disc가 1을 출력하는 방향으로 학습.\n",
    "5. 위의 것들을 반복하며 gen이 disc를 완전히 속일수 있도록 학습을 진행\n",
    "\n",
    "**>> 우리가 정한 condition을 입력값으로 넣어주면 해당 조건에 맞는 데이터를 생성하게 됨**"
   ]
  },
  {
   "cell_type": "markdown",
   "metadata": {},
   "source": [
    "### 문제점\n",
    " - 성능 자체는 GAN에 비해 퀄리티가 떨어짐\n",
    " - 출력 결과물을 외부에서 조작이 가능하다는 것이 매우 이점\n",
    " - Condition 형태 역시 단순히 label뿐 아니라 분별이 되는 어떠한 형태를 사용해도 되므로, 학습자가 커스터마이징할 수 있음. (C로 문자열이나 원핫벡터 뿐 아니라 다른 이미지를 넣어줘도 됨)"
   ]
  },
  {
   "cell_type": "markdown",
   "metadata": {},
   "source": [
    "### 확장\n",
    " - CGAN을 이용하여 출력할 수 있는 것이 이미지 데이터뿐은 아님. 모든 종류의 데이터 출력이 가능\n",
    " - Tag Generator : CGAN을 이용한 응용 방식\n",
    " - 어떤 데이터에 대해 그에 맞는 태그 데이터를 출력해내는 것\n",
    " - (...) "
   ]
  },
  {
   "cell_type": "markdown",
   "metadata": {},
   "source": [
    "# CGAN 요약\n",
    " - Generator의 경우는 condition을 받아들여서 무엇을 출력할 것인지에 대한 지표로 삼을수 있음\n",
    " - Discriminator의 경우는 condition을 받아들여서 무엇이 올 것인지 기대하며 예측을 함\n",
    " - condition과 real 데이터, condition과 fake 데이터 사이의 fair를 조절한다고 생각"
   ]
  },
  {
   "cell_type": "code",
   "execution_count": null,
   "metadata": {},
   "outputs": [],
   "source": []
  }
 ],
 "metadata": {
  "kernelspec": {
   "display_name": "Python 3",
   "language": "python",
   "name": "python3"
  },
  "language_info": {
   "codemirror_mode": {
    "name": "ipython",
    "version": 3
   },
   "file_extension": ".py",
   "mimetype": "text/x-python",
   "name": "python",
   "nbconvert_exporter": "python",
   "pygments_lexer": "ipython3",
   "version": "3.8.3"
  }
 },
 "nbformat": 4,
 "nbformat_minor": 4
}
